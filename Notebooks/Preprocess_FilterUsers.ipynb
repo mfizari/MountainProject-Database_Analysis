{
 "cells": [
  {
   "cell_type": "markdown",
   "id": "e873e8f0",
   "metadata": {},
   "source": [
    "## Filter the very large userdata file from the scraper \n",
    "\n",
    "Since the scraper got the tick data data for every user with >= 1 tick, we have a lot of rows with low tick numbers. "
   ]
  },
  {
   "cell_type": "code",
   "execution_count": 18,
   "id": "6645604a",
   "metadata": {},
   "outputs": [
    {
     "name": "stdout",
     "output_type": "stream",
     "text": [
      "1     18453\n",
      "2     11462\n",
      "3      8807\n",
      "4      7256\n",
      "5      5910\n",
      "6      5050\n",
      "7      4450\n",
      "8      3902\n",
      "9      3481\n",
      "10     3139\n",
      "Name: Date, dtype: int64\n",
      "Number of users with less than 20 ticks = 90795\n"
     ]
    }
   ],
   "source": [
    "import pandas as pd\n",
    "import seaborn as sns\n",
    "\n",
    "#Path to userdata.jl file from scraper\n",
    "userdata_path = '.../userdata.jl' \n",
    "\n",
    "#Load the file\n",
    "df = pd.read_json(userdata_path, lines=True)\n",
    "\n",
    "#Investigate the number of low-tick users\n",
    "print(df.Date.str.len().value_counts()[0:10]) \n",
    "print('Number of users with less than 20 ticks = '+str(len(df.index[df.Date.str.len() < 20])))\n"
   ]
  },
  {
   "cell_type": "markdown",
   "id": "7a952cac",
   "metadata": {},
   "source": [
    "Let's get rid of all those users with very few ticks and some irrelevant information for our model (URL, notes) and save a new file:"
   ]
  },
  {
   "cell_type": "code",
   "execution_count": 19,
   "id": "dc2c86c6",
   "metadata": {},
   "outputs": [],
   "source": [
    "df = df[df.Date.str.len() > 100] #remove ticks <100\n",
    "df.drop(['URL', 'Notes'], axis=1, inplace=True)\n",
    "\n",
    "#Path to save new userdata file\n",
    "userdata_filter_path = '.../userdata_filter.json' \n",
    "\n",
    "df.to_json(userdata_filter_path)"
   ]
  }
 ],
 "metadata": {
  "kernelspec": {
   "display_name": "Python 3 (ipykernel)",
   "language": "python",
   "name": "python3"
  },
  "language_info": {
   "codemirror_mode": {
    "name": "ipython",
    "version": 3
   },
   "file_extension": ".py",
   "mimetype": "text/x-python",
   "name": "python",
   "nbconvert_exporter": "python",
   "pygments_lexer": "ipython3",
   "version": "3.9.7"
  }
 },
 "nbformat": 4,
 "nbformat_minor": 5
}
